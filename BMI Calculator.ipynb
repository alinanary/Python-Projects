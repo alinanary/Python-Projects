{
 "cells": [
  {
   "cell_type": "markdown",
   "id": "b9e34102",
   "metadata": {},
   "source": [
    "#  BMI Calculator"
   ]
  },
  {
   "cell_type": "code",
   "execution_count": 18,
   "id": "f4672366",
   "metadata": {},
   "outputs": [
    {
     "name": "stdout",
     "output_type": "stream",
     "text": [
      "Enter your name: Alina\n",
      "Enter your weight in pounds: 22\n",
      "Enter your height in inches: 55\n",
      "5.112727272727272\n",
      "Alina, you are underweight. You should start eating more frequently and choosing food with lots of nutrients.\n"
     ]
    }
   ],
   "source": [
    "name = input(\"Enter your name: \")\n",
    "\n",
    "weight  = int(input(\"Enter your weight in pounds: \"))\n",
    "\n",
    "height  = int(input(\"Enter your height in inches: \"))\n",
    "\n",
    "BMI = (weight * 703) / (height * height)\n",
    "\n",
    "print(BMI)\n",
    "\n",
    "if BMI > 0:\n",
    "    if(BMI < 18.5):\n",
    "        print(name + \", you are underweight. You should start eating more frequently and choosing food with lots of nutrients.\")\n",
    "    elif(BMI <= 24.9):\n",
    "        print(name + \", you are normal weight. Eat healthy and stay hydrated!\")\n",
    "    elif(BMI < 29.9):\n",
    "        print(name + \", you are overweight. You should start eating a balanced diet and taking up more activities.\")\n",
    "    elif(BMI < 34.9):\n",
    "        print(name + \", you are obese. You should change your lifestyle!\")\n",
    "    elif(BMI < 39.9):\n",
    "        print(name + \", you are severely obese. You should get advices from a professional.\")\n",
    "    else:\n",
    "        print(name + \", you are morbidly obese. You should get advices from a professional\")\n",
    "else:\n",
    "    print(\"Enter valid input.\")"
   ]
  },
  {
   "cell_type": "code",
   "execution_count": 3,
   "id": "2a830839",
   "metadata": {},
   "outputs": [
    {
     "name": "stdout",
     "output_type": "stream",
     "text": [
      "170\n"
     ]
    }
   ],
   "source": [
    "print(weight)"
   ]
  },
  {
   "cell_type": "code",
   "execution_count": 5,
   "id": "2297b04e",
   "metadata": {},
   "outputs": [
    {
     "name": "stdout",
     "output_type": "stream",
     "text": [
      "69\n"
     ]
    }
   ],
   "source": [
    "print(height)"
   ]
  },
  {
   "cell_type": "code",
   "execution_count": 15,
   "id": "4be0d5d6",
   "metadata": {},
   "outputs": [
    {
     "name": "stdout",
     "output_type": "stream",
     "text": [
      "Alina, you are overweight.\n"
     ]
    }
   ],
   "source": [
    "if BMI > 0:\n",
    "    if(BMI < 18.5):\n",
    "        print(name + \", you are underweight.\")\n",
    "    elif(BMI <= 24.9):\n",
    "        print(name + \", you are normal weight.\")\n",
    "    elif(BMI < 29.9):\n",
    "        print(name + \", you are overweight.\")\n",
    "    elif(BMI < 34.9):\n",
    "        print(name + \", you are obese.\")\n",
    "    elif(BMI < 39.9):\n",
    "        print(name + \", you are severely obese.\")\n",
    "    else:\n",
    "        print(name + \", you are morbidly obese.\")\n",
    "else:\n",
    "    print(\"Enter valid input.\")"
   ]
  },
  {
   "cell_type": "code",
   "execution_count": null,
   "id": "007460f6",
   "metadata": {},
   "outputs": [],
   "source": []
  }
 ],
 "metadata": {
  "kernelspec": {
   "display_name": "Python 3 (ipykernel)",
   "language": "python",
   "name": "python3"
  },
  "language_info": {
   "codemirror_mode": {
    "name": "ipython",
    "version": 3
   },
   "file_extension": ".py",
   "mimetype": "text/x-python",
   "name": "python",
   "nbconvert_exporter": "python",
   "pygments_lexer": "ipython3",
   "version": "3.10.9"
  }
 },
 "nbformat": 4,
 "nbformat_minor": 5
}
